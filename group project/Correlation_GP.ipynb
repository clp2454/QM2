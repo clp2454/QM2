{
  "nbformat": 4,
  "nbformat_minor": 0,
  "metadata": {
    "colab": {
      "provenance": [],
      "authorship_tag": "ABX9TyOtlaJ5v10yuwkpfnCvu7Of",
      "include_colab_link": true
    },
    "kernelspec": {
      "name": "python3",
      "display_name": "Python 3"
    },
    "language_info": {
      "name": "python"
    }
  },
  "cells": [
    {
      "cell_type": "markdown",
      "metadata": {
        "id": "view-in-github",
        "colab_type": "text"
      },
      "source": [
        "<a href=\"https://colab.research.google.com/github/clp2454/QM2/blob/main/group%20project/Correlation_GP.ipynb\" target=\"_parent\"><img src=\"https://colab.research.google.com/assets/colab-badge.svg\" alt=\"Open In Colab\"/></a>"
      ]
    },
    {
      "source": [
        "import pandas as pd\n",
        "\n",
        "url = \"https://fred.stlouisfed.org/series/PCU311351311351\"\n",
        "try:\n",
        "    # Try reading as CSV first, which might work for some FRED URLs\n",
        "    df = pd.read_csv(url)\n",
        "except pd.errors.ParserError:\n",
        "    # If CSV parsing fails, try reading as HTML\n",
        "    df_list = pd.read_html(url)\n",
        "    # Usually the first table is the data, but we add a check to verify\n",
        "    if len(df_list) > 0:\n",
        "        df = df_list[0]\n",
        "    else:\n",
        "        raise Exception(\"No tables found in HTML\")\n",
        "\n",
        "print(df.head())"
      ],
      "cell_type": "code",
      "metadata": {
        "colab": {
          "base_uri": "https://localhost:8080/"
        },
        "id": "3z-bvaqBsevX",
        "outputId": "1935ff49-a805-4ea1-db8a-76a5504c8bf2"
      },
      "execution_count": 2,
      "outputs": [
        {
          "output_type": "stream",
          "name": "stdout",
          "text": [
            "           0        1   2\n",
            "0  Nov 2024:  271.314 NaN\n",
            "1  Oct 2024:  240.126 NaN\n",
            "2  Sep 2024:  237.169 NaN\n",
            "3  Aug 2024:  237.877 NaN\n",
            "4  Jul 2024:  229.400 NaN\n"
          ]
        }
      ]
    },
    {
      "cell_type": "code",
      "source": [
        "#Importing the data sets and assigning them each a dataframe"
      ],
      "metadata": {
        "id": "SBdL9Do8k9da"
      },
      "execution_count": null,
      "outputs": []
    },
    {
      "cell_type": "code",
      "source": [
        "#Calculating the Pearson Correlation Coefficient for cocoa price vs chocolate price"
      ],
      "metadata": {
        "id": "cGRATgHSlNYY"
      },
      "execution_count": null,
      "outputs": []
    }
  ]
}