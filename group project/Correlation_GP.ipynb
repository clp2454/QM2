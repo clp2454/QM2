{
  "nbformat": 4,
  "nbformat_minor": 0,
  "metadata": {
    "colab": {
      "provenance": [],
      "authorship_tag": "ABX9TyNqcDSUpx0LqyFOSLVLX3tF",
      "include_colab_link": true
    },
    "kernelspec": {
      "name": "python3",
      "display_name": "Python 3"
    },
    "language_info": {
      "name": "python"
    }
  },
  "cells": [
    {
      "cell_type": "markdown",
      "metadata": {
        "id": "view-in-github",
        "colab_type": "text"
      },
      "source": [
        "<a href=\"https://colab.research.google.com/github/clp2454/QM2/blob/main/group%20project/Correlation_GP.ipynb\" target=\"_parent\"><img src=\"https://colab.research.google.com/assets/colab-badge.svg\" alt=\"Open In Colab\"/></a>"
      ]
    },
    {
      "source": [
        "#Importing the data sets and assigning them each a dataframe\n",
        "import pandas as pd\n",
        "import scipy.stats\n",
        "import numpy as np\n",
        "\n",
        "# Starting with the cocoa price\n",
        "\n",
        "url = \"https://fred.stlouisfed.org/series/PCOCOUSDM#0\"\n",
        "try:\n",
        "    # Trying to read as CSV first\n",
        "    cocoa_price = pd.read_csv(url)\n",
        "except pd.errors.ParserError:\n",
        "    # If CSV parsing fails, trying to read as HTML\n",
        "    cocoa_price_list = pd.read_html(url)\n",
        "    # Usually the first table is the data, but we add a check to verify\n",
        "    if len(cocoa_price_list) > 0:\n",
        "        cocoa_price = cocoa_price_list[0]\n",
        "    else:\n",
        "        raise Exception(\"No tables found in HTML\")\n",
        "\n",
        "# Removing the NaN column from my data\n",
        "cocoa_price = cocoa_price.drop(columns=[2])\n",
        "#print(cocoa_price.head())\n",
        "\n",
        "#Repeating the process with chocolate price\n",
        "\n",
        "url = \"https://fred.stlouisfed.org/series/PCU3113531135\"\n",
        "try:\n",
        "    # Trying to read as CSV first\n",
        "    chocolate_price = pd.read_csv(url)\n",
        "    chocolate_price = chocolate_price.drop(columns=[1])\n",
        "except pd.errors.ParserError:\n",
        "    # If CSV parsing fails, trying to read as HTML\n",
        "    chocolate_price_list = pd.read_html(url)\n",
        "    # Usually the first table is the data, but we add a check to verify\n",
        "    if len(chocolate_price_list) > 0:\n",
        "        chocolate_price = chocolate_price_list[0]\n",
        "    else:\n",
        "        raise Exception(\"No tables found in HTML\")\n",
        "\n",
        "chocolate_price = chocolate_price.drop(columns=[2])\n",
        "\n",
        "# The columns labelled as zero will now be renamed to 'Date' and formatted for comparison\n",
        "cocoa_price = cocoa_price.rename(columns={0: 'Date'})\n",
        "cocoa_price['Date'] = pd.to_datetime(cocoa_price['Date'], format='%b %Y:', errors='coerce')\n",
        "\n",
        "chocolate_price = chocolate_price.rename(columns={0: 'Date'})\n",
        "chocolate_price['Date'] = pd.to_datetime(chocolate_price['Date'], format='%b %Y:', errors='coerce')\n",
        "\n",
        "# Convert 'Cocoa Price' and 'Chocolate Price' columns to numeric\n",
        "# The errors='coerce' argument will convert any invalid strings to NaN\n",
        "cocoa_price[1] = pd.to_numeric(cocoa_price[1], errors='coerce')\n",
        "chocolate_price[1] = pd.to_numeric(chocolate_price[1], errors='coerce')\n",
        "\n",
        "print(cocoa_price.head())\n",
        "print(chocolate_price.head())"
      ],
      "cell_type": "code",
      "metadata": {
        "colab": {
          "base_uri": "https://localhost:8080/"
        },
        "id": "3z-bvaqBsevX",
        "outputId": "e002e901-7182-4197-e7b4-a9de07c84260"
      },
      "execution_count": 20,
      "outputs": [
        {
          "output_type": "stream",
          "name": "stdout",
          "text": [
            "        Date           1\n",
            "0 2024-11-01  7919.32827\n",
            "1 2024-10-01  6582.85802\n",
            "2 2024-09-01  6421.82566\n",
            "3 2024-08-01  6791.95382\n",
            "4 2024-07-01  7164.62804\n",
            "        Date        1\n",
            "0 2024-11-01  168.539\n",
            "1 2024-10-01  159.194\n",
            "2 2024-09-01  158.634\n",
            "3 2024-08-01  156.803\n",
            "4 2024-07-01  154.422\n"
          ]
        }
      ]
    },
    {
      "cell_type": "code",
      "source": [
        "#Calculating the Pearson Correlation Coefficient for cocoa price vs chocolate price\n",
        "\n",
        "# Merge the DataFrames on the 'Date' column\n",
        "merged_data = pd.merge(cocoa_price, chocolate_price, on='Date', how='inner')\n",
        "merged_data = merged_data.rename(columns={'1_x': 'Cocoa Price', '1_y': 'Chocolate Price'})\n",
        "\n",
        "# Remove rows with NaN or inf in 'Cocoa Price' and 'Chocolate Price' columns\n",
        "merged_data = merged_data.replace([np.inf, -np.inf], np.nan).dropna(subset=['Cocoa Price', 'Chocolate Price'])\n",
        "\n",
        "\n",
        "# Calculate the Pearson correlation coefficient and p-value\n",
        "cocoa_prices = merged_data['Cocoa Price']\n",
        "chocolate_prices = merged_data['Chocolate Price']\n",
        "correlation_coefficient, p_value = scipy.stats.pearsonr(cocoa_prices, chocolate_prices)\n",
        "\n",
        "# Print the results\n",
        "print(f\"Pearson Correlation Coefficient: {correlation_coefficient}\")\n",
        "print(f\"P-value: {p_value}\")\n"
      ],
      "metadata": {
        "id": "cGRATgHSlNYY",
        "colab": {
          "base_uri": "https://localhost:8080/"
        },
        "outputId": "1a993884-ad02-41d6-b2d4-e2b9461b70ed"
      },
      "execution_count": 21,
      "outputs": [
        {
          "output_type": "stream",
          "name": "stdout",
          "text": [
            "Pearson Correlation Coefficient: 0.6760945569290754\n",
            "P-value: 0.21020585710193565\n"
          ]
        }
      ]
    }
  ]
}