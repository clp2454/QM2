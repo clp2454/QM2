{
  "nbformat": 4,
  "nbformat_minor": 0,
  "metadata": {
    "colab": {
      "provenance": [],
      "authorship_tag": "ABX9TyPlUDsm8OEVVUN27uoXpiAa",
      "include_colab_link": true
    },
    "kernelspec": {
      "name": "python3",
      "display_name": "Python 3"
    },
    "language_info": {
      "name": "python"
    }
  },
  "cells": [
    {
      "cell_type": "markdown",
      "metadata": {
        "id": "view-in-github",
        "colab_type": "text"
      },
      "source": [
        "<a href=\"https://colab.research.google.com/github/clp2454/QM2/blob/main/group%20project/Correlation_GP.ipynb\" target=\"_parent\"><img src=\"https://colab.research.google.com/assets/colab-badge.svg\" alt=\"Open In Colab\"/></a>"
      ]
    },
    {
      "source": [
        "#Importing the data sets and assigning them each a dataframe\n",
        "import pandas as pd\n",
        "import scipy.stats\n",
        "import numpy as np\n",
        "\n",
        "# Starting with the cocoa price\n",
        "\n",
        "cocoa_price_file = 'https://fred.stlouisfed.org/graph/fredgraph.csv?bgcolor=%23e1e9f0&chart_type=line&drp=0&fo=open%20sans&graph_bgcolor=%23ffffff&height=450&mode=fred&recession_bars=off&txtcolor=%23444444&ts=12&tts=12&width=720&nt=0&thu=0&trc=0&show_legend=yes&show_axis_titles=yes&show_tooltip=yes&id=PCOCOUSDM&scale=left&cosd=2011-12-01&coed=2024-11-01&line_color=%234572a7&link_values=false&line_style=solid&mark_type=none&mw=3&lw=3&ost=-99999&oet=99999&mma=0&fml=a&fq=Monthly&fam=avg&fgst=lin&fgsnd=2020-02-01&line_index=1&transformation=lin&vintage_date=2025-01-11&revision_date=2025-01-11&nd=1990-01-01'\n",
        "chocolate_price_file = 'https://fred.stlouisfed.org/graph/fredgraph.csv?bgcolor=%23e1e9f0&chart_type=line&drp=0&fo=open%20sans&graph_bgcolor=%23ffffff&height=450&mode=fred&recession_bars=on&txtcolor=%23444444&ts=12&tts=12&width=960&nt=0&thu=0&trc=0&show_legend=yes&show_axis_titles=yes&show_tooltip=yes&id=PCU3113531135&scale=left&cosd=2011-12-01&coed=2024-11-01&line_color=%234572a7&link_values=false&line_style=solid&mark_type=none&mw=3&lw=3&ost=-99999&oet=99999&mma=0&fml=a&fq=Monthly&fam=avg&fgst=lin&fgsnd=2020-02-01&line_index=1&transformation=lin&vintage_date=2025-01-11&revision_date=2025-01-11&nd=2011-12-01'\n",
        "\n",
        "# Read data from CSV files\n",
        "cocoa_price = pd.read_csv(cocoa_price_file)\n",
        "chocolate_price = pd.read_csv(chocolate_price_file)\n",
        "\n",
        "# Merge on the 'Date' column\n",
        "merged_data = pd.merge(cocoa_price, chocolate_price, on='observation_date', how='inner')\n",
        "\n",
        "print(cocoa_price.head())\n",
        "print(chocolate_price.head())"
      ],
      "cell_type": "code",
      "metadata": {
        "colab": {
          "base_uri": "https://localhost:8080/"
        },
        "id": "3z-bvaqBsevX",
        "outputId": "4b6fdfb0-64d6-4a2b-ce72-022671c2d234"
      },
      "execution_count": 27,
      "outputs": [
        {
          "output_type": "stream",
          "name": "stdout",
          "text": [
            "  observation_date    PCOCOUSDM\n",
            "0       2011-12-01  2200.605172\n",
            "1       2012-01-01  2307.761849\n",
            "2       2012-02-01  2356.239881\n",
            "3       2012-03-01  2359.251293\n",
            "4       2012-04-01  2266.782894\n",
            "  observation_date  PCU3113531135\n",
            "0       2011-12-01          100.0\n",
            "1       2012-01-01          101.1\n",
            "2       2012-02-01          101.2\n",
            "3       2012-03-01          101.1\n",
            "4       2012-04-01          101.1\n"
          ]
        }
      ]
    },
    {
      "cell_type": "code",
      "source": [
        "# Finding a correlation using Pearsons correlation coefficient on this dataframe\n",
        "\n",
        "correlation, p_value = scipy.stats.pearsonr(cocoa_price['PCOCOUSDM'], chocolate_price['PCU3113531135'])\n",
        "print(\"Correlation coefficient:\", correlation)\n",
        "print(\"p-value:\", p_value)"
      ],
      "metadata": {
        "id": "ECnRmXz4fSOT",
        "outputId": "8b61c790-0e70-4ac1-8fb4-49fb4b3cbfd4",
        "colab": {
          "base_uri": "https://localhost:8080/"
        }
      },
      "execution_count": 29,
      "outputs": [
        {
          "output_type": "stream",
          "name": "stdout",
          "text": [
            "Correlation coefficient: 0.8117477882942772\n",
            "p-value: 8.416603554141097e-38\n"
          ]
        }
      ]
    },
    {
      "cell_type": "markdown",
      "source": [
        "These results demonstrate a positive, moderately strong correlation between cocoa price and chocolate price. However, as the p-value is greater than 0.05 it shows this correlation is not statistically significant."
      ],
      "metadata": {
        "id": "81yLbCDvX_wE"
      }
    }
  ]
}