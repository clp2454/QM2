{
  "nbformat": 4,
  "nbformat_minor": 0,
  "metadata": {
    "colab": {
      "provenance": [],
      "authorship_tag": "ABX9TyPiRLP+ykfgLyCPPIh+3eap",
      "include_colab_link": true
    },
    "kernelspec": {
      "name": "python3",
      "display_name": "Python 3"
    },
    "language_info": {
      "name": "python"
    }
  },
  "cells": [
    {
      "cell_type": "markdown",
      "metadata": {
        "id": "view-in-github",
        "colab_type": "text"
      },
      "source": [
        "<a href=\"https://colab.research.google.com/github/clp2454/QM2/blob/main/group%20project/Correlation_GP.ipynb\" target=\"_parent\"><img src=\"https://colab.research.google.com/assets/colab-badge.svg\" alt=\"Open In Colab\"/></a>"
      ]
    },
    {
      "source": [
        "#Importing the data sets and assigning them each a dataframe\n",
        "import pandas as pd\n",
        "\n",
        "# Starting with the cocoa price\n",
        "\n",
        "url = \"https://fred.stlouisfed.org/series/PCOCOUSDM#0\"\n",
        "try:\n",
        "    # Trying to read as CSV first\n",
        "    cocoa_price = pd.read_csv(url)\n",
        "except pd.errors.ParserError:\n",
        "    # If CSV parsing fails, trying to read as HTML\n",
        "    cocoa_price_list = pd.read_html(url)\n",
        "    # Usually the first table is the data, but we add a check to verify\n",
        "    if len(cocoa_price_list) > 0:\n",
        "        cocoa_price = cocoa_price_list[0]\n",
        "    else:\n",
        "        raise Exception(\"No tables found in HTML\")\n",
        "\n",
        "# Removing the NaN column from my data\n",
        "cocoa_price = cocoa_price.drop(columns=[2])\n",
        "print(cocoa_price.head())\n",
        "\n",
        "#Repeating the process with chocolate price\n",
        "\n",
        "url = \"https://fred.stlouisfed.org/series/PCU3113531135\"\n",
        "try:\n",
        "    # Trying to read as CSV first\n",
        "    chocolate_price = pd.read_csv(url)\n",
        "    chocolate_price = chocolate_price.drop(columns=[1])\n",
        "except pd.errors.ParserError:\n",
        "    # If CSV parsing fails, trying to read as HTML\n",
        "    chocolate_price_list = pd.read_html(url)\n",
        "    # Usually the first table is the data, but we add a check to verify\n",
        "    if len(chocolate_price_list) > 0:\n",
        "        chocolate_price = chocolate_price_list[0]\n",
        "    else:\n",
        "        raise Exception(\"No tables found in HTML\")\n",
        "\n",
        "chocolate_price = chocolate_price.drop(columns=[2])\n",
        "print(chocolate_price.head())\n"
      ],
      "cell_type": "code",
      "metadata": {
        "colab": {
          "base_uri": "https://localhost:8080/"
        },
        "id": "3z-bvaqBsevX",
        "outputId": "35649306-802a-422f-e03a-23d7679d57c3"
      },
      "execution_count": 5,
      "outputs": [
        {
          "output_type": "stream",
          "name": "stdout",
          "text": [
            "           0           1\n",
            "0  Nov 2024:  7919.32827\n",
            "1  Oct 2024:  6582.85802\n",
            "2  Sep 2024:  6421.82566\n",
            "3  Aug 2024:  6791.95382\n",
            "4  Jul 2024:  7164.62804\n",
            "           0        1\n",
            "0  Nov 2024:  168.539\n",
            "1  Oct 2024:  159.194\n",
            "2  Sep 2024:  158.634\n",
            "3  Aug 2024:  156.803\n",
            "4  Jul 2024:  154.422\n"
          ]
        }
      ]
    },
    {
      "cell_type": "code",
      "source": [
        "#Calculating the Pearson Correlation Coefficient for cocoa price vs chocolate price"
      ],
      "metadata": {
        "id": "cGRATgHSlNYY"
      },
      "execution_count": null,
      "outputs": []
    }
  ]
}